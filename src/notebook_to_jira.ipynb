{
 "cells": [
  {
   "cell_type": "markdown",
   "metadata": {},
   "source": [
    "# Sweep: Notebook to JIRA\n",
    "\n",
    "### Welcome!\n",
    "\n",
    "#### This notebook shows how can you access JIRA in a Jupyter notebook using *Sweep*.\n",
    "\n",
    "Sweep:\n",
    "* Authenticates to and accesses JIRA\n",
    "* Sends requests to the JIRA REST API and reformats the results\n",
    "* Defines the result of a query to JIRA as a *QueryFrame* object which contains all date you might want to get from it\n",
    "* Partially caches results in a local database for speeding up repeatedly querying\n",
    "* Provides some utilities for dealing with the data\n",
    "* Sweep offers data in the convenient pandas DataFrame format\n",
    "\n",
    "You will now be guided through the basics of Sweep step by step."
   ]
  },
  {
   "cell_type": "markdown",
   "metadata": {},
   "source": [
    "## Basic imports\n",
    "\n",
    "Below, standard pandas, numpy, and matplotlib imports."
   ]
  },
  {
   "cell_type": "code",
   "execution_count": 1,
   "metadata": {},
   "outputs": [],
   "source": [
    "import pandas as pd\n",
    "import numpy as np\n",
    "import matplotlib.pyplot as plt\n",
    "import seaborn\n",
    "\n",
    "%matplotlib inline"
   ]
  },
  {
   "cell_type": "code",
   "execution_count": 2,
   "metadata": {},
   "outputs": [],
   "source": [
    "# Set to a different value if you want all rows to be displayed of dataframes with more rows than this setting\n",
    "pd.set_option('display.max_rows', 999)"
   ]
  },
  {
   "cell_type": "markdown",
   "metadata": {},
   "source": [
    "## Import and initialize Sweep\n",
    "\n",
    "First we import Sweep:\n",
    "```python\n",
    "from jiranb import jiranb\n",
    "```\n",
    "\n",
    "Here `jiranb` stands for \"JIRA notebook\".\n",
    "\n",
    "We create an instance `jnb` of the JIRA notebook, which will:\n",
    "* Initialize our connection with JIRA\n",
    "* Channel function calls through Sweep\n",
    "\n",
    "Please note:\n",
    ">At the start of the initialization a configuration file is read. Please, see the documentation for configuring Sweep!"
   ]
  },
  {
   "cell_type": "code",
   "execution_count": 3,
   "metadata": {},
   "outputs": [
    {
     "name": "stdout",
     "output_type": "stream",
     "text": [
      "Configuration:\n",
      "* Reading configuration from: /Users/cjr/PycharmProjects/portfolio-sweep/src/../../sweep.yaml (/Users/cjr/PycharmProjects/sweep.yaml)\n",
      "* Portfolio: Sweep - PyCharm dir\n",
      "* Input mode: jira (Server=https://sweep.atlassian.net/)\n",
      "* Loaded statuses: Backlog, Selected for Development, In Progress, Done\n",
      "* Loaded plugins: HelloWorldPlugin, AbstractPlugin, AggregateDataPlugin, BurnupPlugin, CumulativeFlowPlugin, CycleTimePlugin, DetailsPlugin, IssueTypesPlugin, IssuesPlugin, TimeSpentPlugin, TreeMapPlugin\n",
      "* Configured plugins: HelloWorldPlugin, DetailsPlugin, AggregateDataPlugin, TreeMapPlugin, CumulativeFlowPlugin, CycleTimePlugin, BurnupPlugin, TimeSpentPlugin, IssueTypesPlugin, IssuesPlugin\n",
      "* Template input directory: service.web (package)\n",
      "* Report output directory: /Users/cjr/reports\n"
     ]
    }
   ],
   "source": [
    "from jiranb import jiranb\n",
    "jnb = jiranb()"
   ]
  },
  {
   "cell_type": "markdown",
   "metadata": {},
   "source": [
    "## Let's query JIRA\n",
    "\n",
    "### JQL and the Sweep QueryFrame\n",
    "\n",
    "We take our JIRA notebook instance and call it with a JIRA JQL string.\n",
    "\n",
    "> JQL stands for Jira Query Language and is the most powerful and flexible way to search for your issues in Jira. JQL is for everyone: developers, testers, agile project managers, and business users.\n",
    "\n",
    "If you need to learn more about the syntax of JQL, please check the [Atlassian website](https://www.atlassian.com/blog/jira-software/jql-the-most-flexible-way-to-search-jira-14).\n",
    "\n",
    "We store the result of the query in a variable named `qf`, which stands for `QueryFrame`. This is a notion unique to Sweep."
   ]
  },
  {
   "cell_type": "code",
   "execution_count": 4,
   "metadata": {},
   "outputs": [],
   "source": [
    "qf = jnb.jql('project=PLAN')"
   ]
  },
  {
   "cell_type": "markdown",
   "metadata": {},
   "source": [
    "## Basic issue data\n",
    "\n",
    "When we use \"search\" in JIRA the result is *always* a list of issues. In the JIRA search user interface we might \n",
    "configure columns, change sorting order or paginate, but we we not get any other result than a list of issues.\n",
    "\n",
    "The `QueryFrame` is also primarily a list of issues, but broken into several dataframes. The first one is called `issuedata` and looks very much like the query result we see in JIRA search (but without the UX)."
   ]
  },
  {
   "cell_type": "code",
   "execution_count": 5,
   "metadata": {},
   "outputs": [
    {
     "data": {
      "text/html": [
       "<div>\n",
       "<style scoped>\n",
       "    .dataframe tbody tr th:only-of-type {\n",
       "        vertical-align: middle;\n",
       "    }\n",
       "\n",
       "    .dataframe tbody tr th {\n",
       "        vertical-align: top;\n",
       "    }\n",
       "\n",
       "    .dataframe thead th {\n",
       "        text-align: right;\n",
       "    }\n",
       "</style>\n",
       "<table border=\"1\" class=\"dataframe\">\n",
       "  <thead>\n",
       "    <tr style=\"text-align: right;\">\n",
       "      <th></th>\n",
       "      <th>key</th>\n",
       "      <th>status</th>\n",
       "      <th>summary</th>\n",
       "      <th>description</th>\n",
       "      <th>created</th>\n",
       "      <th>updated</th>\n",
       "      <th>issuetype</th>\n",
       "      <th>timeoriginalestimate</th>\n",
       "      <th>timespent</th>\n",
       "      <th>creator</th>\n",
       "      <th>reporter</th>\n",
       "      <th>assignee</th>\n",
       "      <th>closed</th>\n",
       "    </tr>\n",
       "  </thead>\n",
       "  <tbody>\n",
       "    <tr>\n",
       "      <th>0</th>\n",
       "      <td>PLAN-44</td>\n",
       "      <td>Selected for Development</td>\n",
       "      <td>Describe QueryFrame</td>\n",
       "      <td>As a user of Jupyter Lab\\r\\nI want to call a m...</td>\n",
       "      <td>2020-03-07 11:06:49.290</td>\n",
       "      <td>2020-03-07 11:07:26.570</td>\n",
       "      <td>Story</td>\n",
       "      <td>10800.0</td>\n",
       "      <td>NaN</td>\n",
       "      <td>Cees Roele</td>\n",
       "      <td>Cees Roele</td>\n",
       "      <td>None</td>\n",
       "      <td>NaT</td>\n",
       "    </tr>\n",
       "    <tr>\n",
       "      <th>1</th>\n",
       "      <td>PLAN-43</td>\n",
       "      <td>Selected for Development</td>\n",
       "      <td>Query JIRA</td>\n",
       "      <td>As a user of Jupyter Lab\\r\\nI want to send a J...</td>\n",
       "      <td>2020-03-07 11:02:40.350</td>\n",
       "      <td>2020-03-07 11:02:57.630</td>\n",
       "      <td>Story</td>\n",
       "      <td>7200.0</td>\n",
       "      <td>NaN</td>\n",
       "      <td>Cees Roele</td>\n",
       "      <td>Cees Roele</td>\n",
       "      <td>Cees Roele</td>\n",
       "      <td>NaT</td>\n",
       "    </tr>\n",
       "    <tr>\n",
       "      <th>2</th>\n",
       "      <td>PLAN-42</td>\n",
       "      <td>In Progress</td>\n",
       "      <td>Basic data object: QueryFrame</td>\n",
       "      <td>As a user of Jupyter Lab\\r\\nI want to receive ...</td>\n",
       "      <td>2020-03-07 10:59:53.600</td>\n",
       "      <td>2020-03-07 11:01:19.940</td>\n",
       "      <td>Story</td>\n",
       "      <td>14400.0</td>\n",
       "      <td>NaN</td>\n",
       "      <td>Cees Roele</td>\n",
       "      <td>Cees Roele</td>\n",
       "      <td>None</td>\n",
       "      <td>NaT</td>\n",
       "    </tr>\n",
       "    <tr>\n",
       "      <th>3</th>\n",
       "      <td>PLAN-41</td>\n",
       "      <td>Selected for Development</td>\n",
       "      <td>Sweep for Jupyter: create basic architecture</td>\n",
       "      <td>Create the basic architecture to make it possi...</td>\n",
       "      <td>2020-03-07 10:56:46.400</td>\n",
       "      <td>2020-03-07 11:07:12.680</td>\n",
       "      <td>Epic</td>\n",
       "      <td>NaN</td>\n",
       "      <td>NaN</td>\n",
       "      <td>Cees Roele</td>\n",
       "      <td>Cees Roele</td>\n",
       "      <td>Cees Roele</td>\n",
       "      <td>NaT</td>\n",
       "    </tr>\n",
       "    <tr>\n",
       "      <th>4</th>\n",
       "      <td>PLAN-40</td>\n",
       "      <td>Backlog</td>\n",
       "      <td>Encapsulate starting django</td>\n",
       "      <td>As a user\\r\\nI can start Django with the same ...</td>\n",
       "      <td>2019-12-05 06:25:43.160</td>\n",
       "      <td>2019-12-05 06:52:33.300</td>\n",
       "      <td>Story</td>\n",
       "      <td>7200.0</td>\n",
       "      <td>NaN</td>\n",
       "      <td>Cees Roele</td>\n",
       "      <td>Cees Roele</td>\n",
       "      <td>None</td>\n",
       "      <td>NaT</td>\n",
       "    </tr>\n",
       "  </tbody>\n",
       "</table>\n",
       "</div>"
      ],
      "text/plain": [
       "       key                    status  \\\n",
       "0  PLAN-44  Selected for Development   \n",
       "1  PLAN-43  Selected for Development   \n",
       "2  PLAN-42               In Progress   \n",
       "3  PLAN-41  Selected for Development   \n",
       "4  PLAN-40                   Backlog   \n",
       "\n",
       "                                        summary  \\\n",
       "0                           Describe QueryFrame   \n",
       "1                                    Query JIRA   \n",
       "2                 Basic data object: QueryFrame   \n",
       "3  Sweep for Jupyter: create basic architecture   \n",
       "4                   Encapsulate starting django   \n",
       "\n",
       "                                         description                 created  \\\n",
       "0  As a user of Jupyter Lab\\r\\nI want to call a m... 2020-03-07 11:06:49.290   \n",
       "1  As a user of Jupyter Lab\\r\\nI want to send a J... 2020-03-07 11:02:40.350   \n",
       "2  As a user of Jupyter Lab\\r\\nI want to receive ... 2020-03-07 10:59:53.600   \n",
       "3  Create the basic architecture to make it possi... 2020-03-07 10:56:46.400   \n",
       "4  As a user\\r\\nI can start Django with the same ... 2019-12-05 06:25:43.160   \n",
       "\n",
       "                  updated issuetype  timeoriginalestimate  timespent  \\\n",
       "0 2020-03-07 11:07:26.570     Story               10800.0        NaN   \n",
       "1 2020-03-07 11:02:57.630     Story                7200.0        NaN   \n",
       "2 2020-03-07 11:01:19.940     Story               14400.0        NaN   \n",
       "3 2020-03-07 11:07:12.680      Epic                   NaN        NaN   \n",
       "4 2019-12-05 06:52:33.300     Story                7200.0        NaN   \n",
       "\n",
       "      creator    reporter    assignee closed  \n",
       "0  Cees Roele  Cees Roele        None    NaT  \n",
       "1  Cees Roele  Cees Roele  Cees Roele    NaT  \n",
       "2  Cees Roele  Cees Roele        None    NaT  \n",
       "3  Cees Roele  Cees Roele  Cees Roele    NaT  \n",
       "4  Cees Roele  Cees Roele        None    NaT  "
      ]
     },
     "execution_count": 5,
     "metadata": {},
     "output_type": "execute_result"
    }
   ],
   "source": [
    "qf.issuedata.head()"
   ]
  },
  {
   "cell_type": "markdown",
   "metadata": {},
   "source": [
    "### A simple pie chart\n",
    "\n",
    "Given the above dataframe we can now execute standard operation including invoking matplotlib.\n",
    "\n",
    "Let's create a simple pie chart indicating the share of each issuetype in the total number of issues.\n",
    "First we leave out most fields and group the data by `issuetype`, of which we count the occurrences."
   ]
  },
  {
   "cell_type": "code",
   "execution_count": 6,
   "metadata": {},
   "outputs": [
    {
     "data": {
      "text/html": [
       "<div>\n",
       "<style scoped>\n",
       "    .dataframe tbody tr th:only-of-type {\n",
       "        vertical-align: middle;\n",
       "    }\n",
       "\n",
       "    .dataframe tbody tr th {\n",
       "        vertical-align: top;\n",
       "    }\n",
       "\n",
       "    .dataframe thead th {\n",
       "        text-align: right;\n",
       "    }\n",
       "</style>\n",
       "<table border=\"1\" class=\"dataframe\">\n",
       "  <thead>\n",
       "    <tr style=\"text-align: right;\">\n",
       "      <th></th>\n",
       "      <th>key</th>\n",
       "    </tr>\n",
       "    <tr>\n",
       "      <th>issuetype</th>\n",
       "      <th></th>\n",
       "    </tr>\n",
       "  </thead>\n",
       "  <tbody>\n",
       "    <tr>\n",
       "      <th>Bug</th>\n",
       "      <td>1</td>\n",
       "    </tr>\n",
       "    <tr>\n",
       "      <th>Epic</th>\n",
       "      <td>7</td>\n",
       "    </tr>\n",
       "    <tr>\n",
       "      <th>Story</th>\n",
       "      <td>23</td>\n",
       "    </tr>\n",
       "    <tr>\n",
       "      <th>Sub-task</th>\n",
       "      <td>2</td>\n",
       "    </tr>\n",
       "    <tr>\n",
       "      <th>Task</th>\n",
       "      <td>8</td>\n",
       "    </tr>\n",
       "  </tbody>\n",
       "</table>\n",
       "</div>"
      ],
      "text/plain": [
       "           key\n",
       "issuetype     \n",
       "Bug          1\n",
       "Epic         7\n",
       "Story       23\n",
       "Sub-task     2\n",
       "Task         8"
      ]
     },
     "execution_count": 6,
     "metadata": {},
     "output_type": "execute_result"
    }
   ],
   "source": [
    "pie_df = qf.issuedata[['issuetype','key']].groupby('issuetype').count()\n",
    "pie_df"
   ]
  },
  {
   "cell_type": "code",
   "execution_count": 7,
   "metadata": {},
   "outputs": [],
   "source": [
    "pcopy = pie_df"
   ]
  },
  {
   "cell_type": "code",
   "execution_count": 8,
   "metadata": {},
   "outputs": [
    {
     "data": {
      "text/html": [
       "<div>\n",
       "<style scoped>\n",
       "    .dataframe tbody tr th:only-of-type {\n",
       "        vertical-align: middle;\n",
       "    }\n",
       "\n",
       "    .dataframe tbody tr th {\n",
       "        vertical-align: top;\n",
       "    }\n",
       "\n",
       "    .dataframe thead th {\n",
       "        text-align: right;\n",
       "    }\n",
       "</style>\n",
       "<table border=\"1\" class=\"dataframe\">\n",
       "  <thead>\n",
       "    <tr style=\"text-align: right;\">\n",
       "      <th>issuetype</th>\n",
       "      <th>Bug</th>\n",
       "      <th>Epic</th>\n",
       "      <th>Story</th>\n",
       "      <th>Sub-task</th>\n",
       "      <th>Task</th>\n",
       "    </tr>\n",
       "  </thead>\n",
       "  <tbody>\n",
       "    <tr>\n",
       "      <th>key</th>\n",
       "      <td>1</td>\n",
       "      <td>7</td>\n",
       "      <td>23</td>\n",
       "      <td>2</td>\n",
       "      <td>8</td>\n",
       "    </tr>\n",
       "  </tbody>\n",
       "</table>\n",
       "</div>"
      ],
      "text/plain": [
       "issuetype  Bug  Epic  Story  Sub-task  Task\n",
       "key          1     7     23         2     8"
      ]
     },
     "execution_count": 8,
     "metadata": {},
     "output_type": "execute_result"
    }
   ],
   "source": [
    "pie_df.T"
   ]
  },
  {
   "cell_type": "markdown",
   "metadata": {},
   "source": [
    "And create the pie chart. That's all!"
   ]
  },
  {
   "cell_type": "code",
   "execution_count": 9,
   "metadata": {},
   "outputs": [
    {
     "data": {
      "image/png": "[encoded data removed]",
      "text/plain": [
       "<Figure size 432x288 with 1 Axes>"
      ]
     },
     "metadata": {},
     "output_type": "display_data"
    }
   ],
   "source": [
    "pie_df.plot.pie(y='key')\n",
    "plt.show()"
   ]
  },
  {
   "cell_type": "markdown",
   "metadata": {},
   "source": [
    "## Historical data\n",
    "\n",
    "Historical data on issues is stored as \"logs\":\n",
    "* `changelog`: contains the changes made to all fields and basically contains the information: \"On date & time X, user U replaced the old value p of field Y with a new value q\".\n",
    "* `worklog`: contains similar logs as the changelog, but now on who logged work on what date for the issue\n",
    "\n",
    "On the positive side, JIRA's storage of this data in logs makes it possible to reconstruct all states of the issue back to its creation.\n",
    "\n",
    "On the negative side, it requires iteration in a script to retrieve the data.\n",
    "\n",
    "In Sweep we create a dataframe containing part of the information in the logs. We are not (now) interested in who did what on what date. It is good enough to know what is the status of an issue per day, which we can extract from the `changelog`. (We ignore other fields for now and we ignore the `worklog`).\n",
    "\n",
    "The historical information can be accessed by the `timedata` attribute of the `QueryFrame`."
   ]
  },
  {
   "cell_type": "code",
   "execution_count": 10,
   "metadata": {},
   "outputs": [
    {
     "data": {
      "text/html": [
       "<div>\n",
       "<style scoped>\n",
       "    .dataframe tbody tr th:only-of-type {\n",
       "        vertical-align: middle;\n",
       "    }\n",
       "\n",
       "    .dataframe tbody tr th {\n",
       "        vertical-align: top;\n",
       "    }\n",
       "\n",
       "    .dataframe thead th {\n",
       "        text-align: right;\n",
       "    }\n",
       "</style>\n",
       "<table border=\"1\" class=\"dataframe\">\n",
       "  <thead>\n",
       "    <tr style=\"text-align: right;\">\n",
       "      <th></th>\n",
       "      <th>date</th>\n",
       "      <th>key</th>\n",
       "      <th>status</th>\n",
       "    </tr>\n",
       "  </thead>\n",
       "  <tbody>\n",
       "    <tr>\n",
       "      <th>0</th>\n",
       "      <td>2019-09-09</td>\n",
       "      <td>PLAN-44</td>\n",
       "      <td>None</td>\n",
       "    </tr>\n",
       "    <tr>\n",
       "      <th>1</th>\n",
       "      <td>2019-09-09</td>\n",
       "      <td>PLAN-43</td>\n",
       "      <td>None</td>\n",
       "    </tr>\n",
       "    <tr>\n",
       "      <th>2</th>\n",
       "      <td>2019-09-09</td>\n",
       "      <td>PLAN-42</td>\n",
       "      <td>None</td>\n",
       "    </tr>\n",
       "    <tr>\n",
       "      <th>3</th>\n",
       "      <td>2019-09-09</td>\n",
       "      <td>PLAN-41</td>\n",
       "      <td>None</td>\n",
       "    </tr>\n",
       "    <tr>\n",
       "      <th>4</th>\n",
       "      <td>2019-09-09</td>\n",
       "      <td>PLAN-40</td>\n",
       "      <td>None</td>\n",
       "    </tr>\n",
       "    <tr>\n",
       "      <th>...</th>\n",
       "      <td>...</td>\n",
       "      <td>...</td>\n",
       "      <td>...</td>\n",
       "    </tr>\n",
       "    <tr>\n",
       "      <th>7334</th>\n",
       "      <td>2020-03-05</td>\n",
       "      <td>PLAN-5</td>\n",
       "      <td>Done</td>\n",
       "    </tr>\n",
       "    <tr>\n",
       "      <th>7335</th>\n",
       "      <td>2020-03-05</td>\n",
       "      <td>PLAN-4</td>\n",
       "      <td>Done</td>\n",
       "    </tr>\n",
       "    <tr>\n",
       "      <th>7336</th>\n",
       "      <td>2020-03-05</td>\n",
       "      <td>PLAN-3</td>\n",
       "      <td>Done</td>\n",
       "    </tr>\n",
       "    <tr>\n",
       "      <th>7337</th>\n",
       "      <td>2020-03-05</td>\n",
       "      <td>PLAN-2</td>\n",
       "      <td>Done</td>\n",
       "    </tr>\n",
       "    <tr>\n",
       "      <th>7338</th>\n",
       "      <td>2020-03-05</td>\n",
       "      <td>PLAN-1</td>\n",
       "      <td>Backlog</td>\n",
       "    </tr>\n",
       "  </tbody>\n",
       "</table>\n",
       "<p>7339 rows × 3 columns</p>\n",
       "</div>"
      ],
      "text/plain": [
       "           date      key   status\n",
       "0    2019-09-09  PLAN-44     None\n",
       "1    2019-09-09  PLAN-43     None\n",
       "2    2019-09-09  PLAN-42     None\n",
       "3    2019-09-09  PLAN-41     None\n",
       "4    2019-09-09  PLAN-40     None\n",
       "...         ...      ...      ...\n",
       "7334 2020-03-05   PLAN-5     Done\n",
       "7335 2020-03-05   PLAN-4     Done\n",
       "7336 2020-03-05   PLAN-3     Done\n",
       "7337 2020-03-05   PLAN-2     Done\n",
       "7338 2020-03-05   PLAN-1  Backlog\n",
       "\n",
       "[7339 rows x 3 columns]"
      ]
     },
     "execution_count": 10,
     "metadata": {},
     "output_type": "execute_result"
    }
   ],
   "source": [
    "qf.timedata"
   ]
  },
  {
   "cell_type": "markdown",
   "metadata": {},
   "source": [
    "This data is constructed as follows:\n",
    "1. The start date is defined as the first `created` date of any of the group of issues\n",
    "2. The end date is defined as the latest `updated` date of any of the group of issues\n",
    "3. We define our period as a range of dates between the start and end dates\n",
    "4. For every date, for every key in our result set, we mark the status of the issue at that date\n",
    "5. If the issue doesn't have a status at that date, which will happen if it hasn't been created yet, the status will get the value `None`."
   ]
  },
  {
   "cell_type": "markdown",
   "metadata": {},
   "source": [
    "### A stacked area chart\n",
    "\n",
    "A standard diagram for tracking progress of work that is represented in JIRA is the [\"Cumulative Flow Diagram\"](https://yodiz.com/help/cumulative-flow-diagram-cfd/):\n",
    "\n",
    "> A Cumulative Flow Diagram is an area chart that shows the progress of a project work items for a particular period. This graph is a fundamental tool to visualize project progress and helps to spot potential problems. This diagram shows the count of Backlog items and pace of their progress for the selected past number of days. This is an advanced version of Burn-Up graph.\n",
    "\n",
    "We can create it with the date we now have."
   ]
  },
  {
   "cell_type": "markdown",
   "metadata": {},
   "source": [
    "Translating the above in the notions of our data: the cumulative flow diagram is to show how many issues are in each `status` at any date.\n",
    "\n",
    "So, let's group by `date` and `status`."
   ]
  },
  {
   "cell_type": "code",
   "execution_count": 11,
   "metadata": {},
   "outputs": [
    {
     "data": {
      "text/html": [
       "<div>\n",
       "<style scoped>\n",
       "    .dataframe tbody tr th:only-of-type {\n",
       "        vertical-align: middle;\n",
       "    }\n",
       "\n",
       "    .dataframe tbody tr th {\n",
       "        vertical-align: top;\n",
       "    }\n",
       "\n",
       "    .dataframe thead th {\n",
       "        text-align: right;\n",
       "    }\n",
       "</style>\n",
       "<table border=\"1\" class=\"dataframe\">\n",
       "  <thead>\n",
       "    <tr style=\"text-align: right;\">\n",
       "      <th></th>\n",
       "      <th>date</th>\n",
       "      <th>status</th>\n",
       "      <th>key</th>\n",
       "    </tr>\n",
       "  </thead>\n",
       "  <tbody>\n",
       "    <tr>\n",
       "      <th>0</th>\n",
       "      <td>2019-09-10</td>\n",
       "      <td>Backlog</td>\n",
       "      <td>1</td>\n",
       "    </tr>\n",
       "    <tr>\n",
       "      <th>1</th>\n",
       "      <td>2019-09-10</td>\n",
       "      <td>Done</td>\n",
       "      <td>3</td>\n",
       "    </tr>\n",
       "    <tr>\n",
       "      <th>2</th>\n",
       "      <td>2019-09-10</td>\n",
       "      <td>In Progress</td>\n",
       "      <td>2</td>\n",
       "    </tr>\n",
       "    <tr>\n",
       "      <th>3</th>\n",
       "      <td>2019-09-10</td>\n",
       "      <td>Selected for Development</td>\n",
       "      <td>1</td>\n",
       "    </tr>\n",
       "    <tr>\n",
       "      <th>4</th>\n",
       "      <td>2019-09-11</td>\n",
       "      <td>Backlog</td>\n",
       "      <td>1</td>\n",
       "    </tr>\n",
       "  </tbody>\n",
       "</table>\n",
       "</div>"
      ],
      "text/plain": [
       "        date                    status  key\n",
       "0 2019-09-10                   Backlog    1\n",
       "1 2019-09-10                      Done    3\n",
       "2 2019-09-10               In Progress    2\n",
       "3 2019-09-10  Selected for Development    1\n",
       "4 2019-09-11                   Backlog    1"
      ]
     },
     "execution_count": 11,
     "metadata": {},
     "output_type": "execute_result"
    }
   ],
   "source": [
    "aggregate_df = qf.timedata.groupby(by=['date','status'], as_index=False).count()\n",
    "aggregate_df.head()"
   ]
  },
  {
   "cell_type": "markdown",
   "metadata": {},
   "source": [
    "Now we need to pivot the status so we can use the date as an index. \n",
    "\n",
    "In some cells we will get an empty value, e.g. because at the first day no issue has been completed yet or because at some point no more issues are selected for developed. We set the values of these cells to 0."
   ]
  },
  {
   "cell_type": "code",
   "execution_count": 12,
   "metadata": {},
   "outputs": [
    {
     "data": {
      "text/html": [
       "<div>\n",
       "<style scoped>\n",
       "    .dataframe tbody tr th:only-of-type {\n",
       "        vertical-align: middle;\n",
       "    }\n",
       "\n",
       "    .dataframe tbody tr th {\n",
       "        vertical-align: top;\n",
       "    }\n",
       "\n",
       "    .dataframe thead th {\n",
       "        text-align: right;\n",
       "    }\n",
       "</style>\n",
       "<table border=\"1\" class=\"dataframe\">\n",
       "  <thead>\n",
       "    <tr style=\"text-align: right;\">\n",
       "      <th>status</th>\n",
       "      <th>Backlog</th>\n",
       "      <th>Done</th>\n",
       "      <th>In Progress</th>\n",
       "      <th>Selected for Development</th>\n",
       "    </tr>\n",
       "    <tr>\n",
       "      <th>date</th>\n",
       "      <th></th>\n",
       "      <th></th>\n",
       "      <th></th>\n",
       "      <th></th>\n",
       "    </tr>\n",
       "  </thead>\n",
       "  <tbody>\n",
       "    <tr>\n",
       "      <th>2019-09-10</th>\n",
       "      <td>1.0</td>\n",
       "      <td>3.0</td>\n",
       "      <td>2.0</td>\n",
       "      <td>1.0</td>\n",
       "    </tr>\n",
       "    <tr>\n",
       "      <th>2019-09-11</th>\n",
       "      <td>1.0</td>\n",
       "      <td>4.0</td>\n",
       "      <td>2.0</td>\n",
       "      <td>1.0</td>\n",
       "    </tr>\n",
       "    <tr>\n",
       "      <th>2019-09-12</th>\n",
       "      <td>1.0</td>\n",
       "      <td>4.0</td>\n",
       "      <td>2.0</td>\n",
       "      <td>1.0</td>\n",
       "    </tr>\n",
       "    <tr>\n",
       "      <th>2019-09-13</th>\n",
       "      <td>1.0</td>\n",
       "      <td>4.0</td>\n",
       "      <td>2.0</td>\n",
       "      <td>1.0</td>\n",
       "    </tr>\n",
       "    <tr>\n",
       "      <th>2019-09-14</th>\n",
       "      <td>1.0</td>\n",
       "      <td>4.0</td>\n",
       "      <td>2.0</td>\n",
       "      <td>1.0</td>\n",
       "    </tr>\n",
       "  </tbody>\n",
       "</table>\n",
       "</div>"
      ],
      "text/plain": [
       "status      Backlog  Done  In Progress  Selected for Development\n",
       "date                                                            \n",
       "2019-09-10      1.0   3.0          2.0                       1.0\n",
       "2019-09-11      1.0   4.0          2.0                       1.0\n",
       "2019-09-12      1.0   4.0          2.0                       1.0\n",
       "2019-09-13      1.0   4.0          2.0                       1.0\n",
       "2019-09-14      1.0   4.0          2.0                       1.0"
      ]
     },
     "execution_count": 12,
     "metadata": {},
     "output_type": "execute_result"
    }
   ],
   "source": [
    "res = aggregate_df.pivot(index='date', columns='status', values='key').fillna(0)\n",
    "res.head()"
   ]
  },
  {
   "cell_type": "markdown",
   "metadata": {},
   "source": [
    "The order of the columns resulting from the pivot is not the order in which we want to see the status in our area chart, so we reset the data frame with a list of the statuses used by the system."
   ]
  },
  {
   "cell_type": "code",
   "execution_count": 13,
   "metadata": {},
   "outputs": [
    {
     "data": {
      "text/plain": [
       "['Backlog', 'Selected for Development', 'In Progress', 'Done']"
      ]
     },
     "execution_count": 13,
     "metadata": {},
     "output_type": "execute_result"
    }
   ],
   "source": [
    "jnb.statuses"
   ]
  },
  {
   "cell_type": "code",
   "execution_count": 14,
   "metadata": {},
   "outputs": [],
   "source": [
    "res = res[jnb.statuses]"
   ]
  },
  {
   "cell_type": "markdown",
   "metadata": {},
   "source": [
    "Now we are ready to create the diagram."
   ]
  },
  {
   "cell_type": "code",
   "execution_count": 15,
   "metadata": {},
   "outputs": [
    {
     "data": {
      "image/png": "[encoded data removed]",
      "text/plain": [
       "<Figure size 720x576 with 1 Axes>"
      ]
     },
     "metadata": {
      "needs_background": "light"
     },
     "output_type": "display_data"
    }
   ],
   "source": [
    "res.plot.area(figsize=(10,8))\n",
    "plt.show()"
   ]
  },
  {
   "cell_type": "markdown",
   "metadata": {},
   "source": [
    "## Additional functionality\n",
    "\n",
    "### Issue data in a table\n",
    "\n",
    "You can quickly get the fields of an issue by using the issue key as an index to the `QueryFrame`:"
   ]
  },
  {
   "cell_type": "code",
   "execution_count": 16,
   "metadata": {},
   "outputs": [
    {
     "data": {
      "text/html": [
       "<div>\n",
       "<style scoped=\"\">\n",
       "    .dataframe tbody tr th:only-of-type {\n",
       "        vertical-align: middle;\n",
       "    }\n",
       "\n",
       "    .dataframe tbody tr th {\n",
       "        vertical-align: top;\n",
       "    }\n",
       "\n",
       "    .dataframe thead th {\n",
       "        text-align: right;\n",
       "    }\n",
       "    </style><table border=\"1\" class=\"dataframe\">\n",
       "  <thead>\n",
       "    <tr style=\"text-align: right;\">\n",
       "      <th>field</th>\n",
       "      <th>value</th>\n",
       "    </tr>\n",
       "  </thead>\n",
       "<tbody><tr><td>key</td><td>PLAN-7</td></tr><tr><td>summary</td><td>Retrieve issues for Initiative</td></tr>\n",
       "<tr><td>description</td><td>Retrieve issues linked to an Initiative\r\n",
       "\r\n",
       "Acceptance criteria:\r\n",
       "Issues are printed to the console.</td></tr>\n",
       "<tr><td>issuetype</td><td>Task</td></tr>\n",
       "<tr><td>created</td><td>2019-09-09T20:39:43.646+0200</td></tr>\n",
       "<tr><td>updated</td><td>2019-11-04T21:38:01.919+0100</td></tr>\n",
       "<tr><td>assignee</td><td>None</td></tr>\n",
       "<tr><td>creator</td><td>Cees Roele</td></tr>\n",
       "<tr><td>timeoriginalestimate</td><td>3600</td></tr>\n",
       "<tr><td>timespent</td><td>14400</td></tr>\n",
       "</tbody>\n",
       "</table>\n",
       "</div>"
      ],
      "text/plain": [
       "<data.JiraObjectData.IssueData at 0x11bef56d0>"
      ]
     },
     "execution_count": 16,
     "metadata": {},
     "output_type": "execute_result"
    }
   ],
   "source": [
    "qf['PLAN-7']"
   ]
  },
  {
   "cell_type": "markdown",
   "metadata": {},
   "source": [
    "The object returned is an `IssueData` object from Sweep."
   ]
  },
  {
   "cell_type": "code",
   "execution_count": 17,
   "metadata": {},
   "outputs": [
    {
     "data": {
      "text/plain": [
       "data.JiraObjectData.IssueData"
      ]
     },
     "execution_count": 17,
     "metadata": {},
     "output_type": "execute_result"
    }
   ],
   "source": [
    "type(qf['PLAN-7'])"
   ]
  },
  {
   "cell_type": "markdown",
   "metadata": {},
   "source": [
    "The values of the individual fields can be obtained like this:"
   ]
  },
  {
   "cell_type": "code",
   "execution_count": 18,
   "metadata": {},
   "outputs": [
    {
     "data": {
      "text/plain": [
       "14400"
      ]
     },
     "execution_count": 18,
     "metadata": {},
     "output_type": "execute_result"
    }
   ],
   "source": [
    "qf['PLAN-7']['timespent']"
   ]
  },
  {
   "cell_type": "markdown",
   "metadata": {},
   "source": [
    "### Describe the query results\n",
    "\n",
    "In `pandas` we can call `describe()` for a `DataFrame` for an overview of the basic statistical analysis of the data.\n",
    "\n",
    "Similarly, in a `QueryFrame` we can call `describe()` for an overview of the most relevant data in the `QueryFrame`. As this data refers to JIRA issues, this overview is less of a statistical nature and more aimed at relevant aspects of the domain."
   ]
  },
  {
   "cell_type": "code",
   "execution_count": 19,
   "metadata": {},
   "outputs": [
    {
     "data": {
      "text/html": [
       "<div>\n",
       "<style scoped>\n",
       "    .dataframe tbody tr th:only-of-type {\n",
       "        vertical-align: middle;\n",
       "    }\n",
       "\n",
       "    .dataframe tbody tr th {\n",
       "        vertical-align: top;\n",
       "    }\n",
       "\n",
       "    .dataframe thead th {\n",
       "        text-align: right;\n",
       "    }\n",
       "</style>\n",
       "<table border=\"1\" class=\"dataframe\">\n",
       "  <thead>\n",
       "    <tr style=\"text-align: right;\">\n",
       "      <th>issuetype</th>\n",
       "      <th>Bug</th>\n",
       "      <th>Epic</th>\n",
       "      <th>Story</th>\n",
       "      <th>Sub-task</th>\n",
       "      <th>Task</th>\n",
       "    </tr>\n",
       "  </thead>\n",
       "  <tbody>\n",
       "    <tr>\n",
       "      <th>count</th>\n",
       "      <td>1.000000</td>\n",
       "      <td>7.000000</td>\n",
       "      <td>23.000000</td>\n",
       "      <td>2.000000</td>\n",
       "      <td>8.000000</td>\n",
       "    </tr>\n",
       "    <tr>\n",
       "      <th>percentage</th>\n",
       "      <td>0.024390</td>\n",
       "      <td>0.170732</td>\n",
       "      <td>0.560976</td>\n",
       "      <td>0.048780</td>\n",
       "      <td>0.195122</td>\n",
       "    </tr>\n",
       "    <tr>\n",
       "      <th>timespent</th>\n",
       "      <td>1.000000</td>\n",
       "      <td>0.000000</td>\n",
       "      <td>27.666667</td>\n",
       "      <td>2.166667</td>\n",
       "      <td>21.500000</td>\n",
       "    </tr>\n",
       "    <tr>\n",
       "      <th>timeoriginalestimate</th>\n",
       "      <td>0.000000</td>\n",
       "      <td>72.000000</td>\n",
       "      <td>51.500000</td>\n",
       "      <td>2.000000</td>\n",
       "      <td>19.500000</td>\n",
       "    </tr>\n",
       "    <tr>\n",
       "      <th>timespent_pct</th>\n",
       "      <td>0.019108</td>\n",
       "      <td>0.000000</td>\n",
       "      <td>0.528662</td>\n",
       "      <td>0.041401</td>\n",
       "      <td>0.410828</td>\n",
       "    </tr>\n",
       "    <tr>\n",
       "      <th>timeoriginalestimate_pct</th>\n",
       "      <td>0.000000</td>\n",
       "      <td>0.496552</td>\n",
       "      <td>0.355172</td>\n",
       "      <td>0.013793</td>\n",
       "      <td>0.134483</td>\n",
       "    </tr>\n",
       "    <tr>\n",
       "      <th>timeoriginalestimate_notnull</th>\n",
       "      <td>0.000000</td>\n",
       "      <td>3.000000</td>\n",
       "      <td>20.000000</td>\n",
       "      <td>2.000000</td>\n",
       "      <td>8.000000</td>\n",
       "    </tr>\n",
       "    <tr>\n",
       "      <th>timespent_notnull</th>\n",
       "      <td>1.000000</td>\n",
       "      <td>0.000000</td>\n",
       "      <td>12.000000</td>\n",
       "      <td>2.000000</td>\n",
       "      <td>8.000000</td>\n",
       "    </tr>\n",
       "    <tr>\n",
       "      <th>not_estimated</th>\n",
       "      <td>1.000000</td>\n",
       "      <td>4.000000</td>\n",
       "      <td>3.000000</td>\n",
       "      <td>0.000000</td>\n",
       "      <td>0.000000</td>\n",
       "    </tr>\n",
       "    <tr>\n",
       "      <th>no_time_spent</th>\n",
       "      <td>0.000000</td>\n",
       "      <td>7.000000</td>\n",
       "      <td>11.000000</td>\n",
       "      <td>0.000000</td>\n",
       "      <td>0.000000</td>\n",
       "    </tr>\n",
       "  </tbody>\n",
       "</table>\n",
       "</div>"
      ],
      "text/plain": [
       "issuetype                          Bug       Epic      Story  Sub-task  \\\n",
       "count                         1.000000   7.000000  23.000000  2.000000   \n",
       "percentage                    0.024390   0.170732   0.560976  0.048780   \n",
       "timespent                     1.000000   0.000000  27.666667  2.166667   \n",
       "timeoriginalestimate          0.000000  72.000000  51.500000  2.000000   \n",
       "timespent_pct                 0.019108   0.000000   0.528662  0.041401   \n",
       "timeoriginalestimate_pct      0.000000   0.496552   0.355172  0.013793   \n",
       "timeoriginalestimate_notnull  0.000000   3.000000  20.000000  2.000000   \n",
       "timespent_notnull             1.000000   0.000000  12.000000  2.000000   \n",
       "not_estimated                 1.000000   4.000000   3.000000  0.000000   \n",
       "no_time_spent                 0.000000   7.000000  11.000000  0.000000   \n",
       "\n",
       "issuetype                          Task  \n",
       "count                          8.000000  \n",
       "percentage                     0.195122  \n",
       "timespent                     21.500000  \n",
       "timeoriginalestimate          19.500000  \n",
       "timespent_pct                  0.410828  \n",
       "timeoriginalestimate_pct       0.134483  \n",
       "timeoriginalestimate_notnull   8.000000  \n",
       "timespent_notnull              8.000000  \n",
       "not_estimated                  0.000000  \n",
       "no_time_spent                  0.000000  "
      ]
     },
     "execution_count": 19,
     "metadata": {},
     "output_type": "execute_result"
    }
   ],
   "source": [
    "qf.describe()"
   ]
  },
  {
   "cell_type": "markdown",
   "metadata": {},
   "source": [
    "Qua grouping it is easiest to read the table when issue types are columns. Drawback is that the data in columns is assumed to be of a single type and hence is formatted in the same way, even though in this case the formatting would better be dependent on the rows.\n",
    "\n",
    "For greater readability of the individual numbers, we can transpose the result."
   ]
  },
  {
   "cell_type": "code",
   "execution_count": 20,
   "metadata": {},
   "outputs": [
    {
     "data": {
      "text/html": [
       "<div>\n",
       "<style scoped>\n",
       "    .dataframe tbody tr th:only-of-type {\n",
       "        vertical-align: middle;\n",
       "    }\n",
       "\n",
       "    .dataframe tbody tr th {\n",
       "        vertical-align: top;\n",
       "    }\n",
       "\n",
       "    .dataframe thead th {\n",
       "        text-align: right;\n",
       "    }\n",
       "</style>\n",
       "<table border=\"1\" class=\"dataframe\">\n",
       "  <thead>\n",
       "    <tr style=\"text-align: right;\">\n",
       "      <th></th>\n",
       "      <th>count</th>\n",
       "      <th>percentage</th>\n",
       "      <th>timespent</th>\n",
       "      <th>timeoriginalestimate</th>\n",
       "      <th>timespent_pct</th>\n",
       "      <th>timeoriginalestimate_pct</th>\n",
       "      <th>timeoriginalestimate_notnull</th>\n",
       "      <th>timespent_notnull</th>\n",
       "      <th>not_estimated</th>\n",
       "      <th>no_time_spent</th>\n",
       "    </tr>\n",
       "    <tr>\n",
       "      <th>issuetype</th>\n",
       "      <th></th>\n",
       "      <th></th>\n",
       "      <th></th>\n",
       "      <th></th>\n",
       "      <th></th>\n",
       "      <th></th>\n",
       "      <th></th>\n",
       "      <th></th>\n",
       "      <th></th>\n",
       "      <th></th>\n",
       "    </tr>\n",
       "  </thead>\n",
       "  <tbody>\n",
       "    <tr>\n",
       "      <th>Bug</th>\n",
       "      <td>1.0</td>\n",
       "      <td>0.024390</td>\n",
       "      <td>1.000000</td>\n",
       "      <td>0.0</td>\n",
       "      <td>0.019108</td>\n",
       "      <td>0.000000</td>\n",
       "      <td>0.0</td>\n",
       "      <td>1.0</td>\n",
       "      <td>1.0</td>\n",
       "      <td>0.0</td>\n",
       "    </tr>\n",
       "    <tr>\n",
       "      <th>Epic</th>\n",
       "      <td>7.0</td>\n",
       "      <td>0.170732</td>\n",
       "      <td>0.000000</td>\n",
       "      <td>72.0</td>\n",
       "      <td>0.000000</td>\n",
       "      <td>0.496552</td>\n",
       "      <td>3.0</td>\n",
       "      <td>0.0</td>\n",
       "      <td>4.0</td>\n",
       "      <td>7.0</td>\n",
       "    </tr>\n",
       "    <tr>\n",
       "      <th>Story</th>\n",
       "      <td>23.0</td>\n",
       "      <td>0.560976</td>\n",
       "      <td>27.666667</td>\n",
       "      <td>51.5</td>\n",
       "      <td>0.528662</td>\n",
       "      <td>0.355172</td>\n",
       "      <td>20.0</td>\n",
       "      <td>12.0</td>\n",
       "      <td>3.0</td>\n",
       "      <td>11.0</td>\n",
       "    </tr>\n",
       "    <tr>\n",
       "      <th>Sub-task</th>\n",
       "      <td>2.0</td>\n",
       "      <td>0.048780</td>\n",
       "      <td>2.166667</td>\n",
       "      <td>2.0</td>\n",
       "      <td>0.041401</td>\n",
       "      <td>0.013793</td>\n",
       "      <td>2.0</td>\n",
       "      <td>2.0</td>\n",
       "      <td>0.0</td>\n",
       "      <td>0.0</td>\n",
       "    </tr>\n",
       "    <tr>\n",
       "      <th>Task</th>\n",
       "      <td>8.0</td>\n",
       "      <td>0.195122</td>\n",
       "      <td>21.500000</td>\n",
       "      <td>19.5</td>\n",
       "      <td>0.410828</td>\n",
       "      <td>0.134483</td>\n",
       "      <td>8.0</td>\n",
       "      <td>8.0</td>\n",
       "      <td>0.0</td>\n",
       "      <td>0.0</td>\n",
       "    </tr>\n",
       "  </tbody>\n",
       "</table>\n",
       "</div>"
      ],
      "text/plain": [
       "           count  percentage  timespent  timeoriginalestimate  timespent_pct  \\\n",
       "issuetype                                                                      \n",
       "Bug          1.0    0.024390   1.000000                   0.0       0.019108   \n",
       "Epic         7.0    0.170732   0.000000                  72.0       0.000000   \n",
       "Story       23.0    0.560976  27.666667                  51.5       0.528662   \n",
       "Sub-task     2.0    0.048780   2.166667                   2.0       0.041401   \n",
       "Task         8.0    0.195122  21.500000                  19.5       0.410828   \n",
       "\n",
       "           timeoriginalestimate_pct  timeoriginalestimate_notnull  \\\n",
       "issuetype                                                           \n",
       "Bug                        0.000000                           0.0   \n",
       "Epic                       0.496552                           3.0   \n",
       "Story                      0.355172                          20.0   \n",
       "Sub-task                   0.013793                           2.0   \n",
       "Task                       0.134483                           8.0   \n",
       "\n",
       "           timespent_notnull  not_estimated  no_time_spent  \n",
       "issuetype                                                   \n",
       "Bug                      1.0            1.0            0.0  \n",
       "Epic                     0.0            4.0            7.0  \n",
       "Story                   12.0            3.0           11.0  \n",
       "Sub-task                 2.0            0.0            0.0  \n",
       "Task                     8.0            0.0            0.0  "
      ]
     },
     "execution_count": 20,
     "metadata": {},
     "output_type": "execute_result"
    }
   ],
   "source": [
    "qf.describe().T"
   ]
  },
  {
   "cell_type": "markdown",
   "metadata": {},
   "source": [
    "### Meta-data: fields\n",
    "\n",
    "When scripting with JIRA data, that is, not using it through the user interface, one needs to invoke fields by\n",
    "their exact names. These are not normally visible and different configurations might have different keys.\n",
    "\n",
    "The way to get all relevant data on all fields is to query the JIRA REST API for it, which returns a JSON file.\n",
    "\n",
    "To make life easier for when writing in the JIRA notebook, you can call the `jnb` instance to get info on\n",
    "all fields represented in a dataframe."
   ]
  },
  {
   "cell_type": "code",
   "execution_count": 21,
   "metadata": {},
   "outputs": [
    {
     "data": {
      "text/html": [
       "<div>\n",
       "<style scoped>\n",
       "    .dataframe tbody tr th:only-of-type {\n",
       "        vertical-align: middle;\n",
       "    }\n",
       "\n",
       "    .dataframe tbody tr th {\n",
       "        vertical-align: top;\n",
       "    }\n",
       "\n",
       "    .dataframe thead th {\n",
       "        text-align: right;\n",
       "    }\n",
       "</style>\n",
       "<table border=\"1\" class=\"dataframe\">\n",
       "  <thead>\n",
       "    <tr style=\"text-align: right;\">\n",
       "      <th></th>\n",
       "      <th>id</th>\n",
       "      <th>key</th>\n",
       "      <th>name</th>\n",
       "      <th>custom</th>\n",
       "      <th>orderable</th>\n",
       "      <th>navigable</th>\n",
       "      <th>searchable</th>\n",
       "      <th>clauseNames</th>\n",
       "      <th>schema</th>\n",
       "    </tr>\n",
       "  </thead>\n",
       "  <tbody>\n",
       "    <tr>\n",
       "      <th>0</th>\n",
       "      <td>statuscategorychangedate</td>\n",
       "      <td>statuscategorychangedate</td>\n",
       "      <td>Status Category Changed</td>\n",
       "      <td>False</td>\n",
       "      <td>False</td>\n",
       "      <td>True</td>\n",
       "      <td>True</td>\n",
       "      <td>['statusCategoryChangedDate']</td>\n",
       "      <td>{'type': 'datetime', 'system': 'statuscategory...</td>\n",
       "    </tr>\n",
       "    <tr>\n",
       "      <th>1</th>\n",
       "      <td>issuetype</td>\n",
       "      <td>issuetype</td>\n",
       "      <td>Issue Type</td>\n",
       "      <td>False</td>\n",
       "      <td>True</td>\n",
       "      <td>True</td>\n",
       "      <td>True</td>\n",
       "      <td>['issuetype', 'type']</td>\n",
       "      <td>{'type': 'issuetype', 'system': 'issuetype'}</td>\n",
       "    </tr>\n",
       "    <tr>\n",
       "      <th>2</th>\n",
       "      <td>parent</td>\n",
       "      <td>parent</td>\n",
       "      <td>Parent</td>\n",
       "      <td>False</td>\n",
       "      <td>False</td>\n",
       "      <td>True</td>\n",
       "      <td>False</td>\n",
       "      <td>['parent']</td>\n",
       "      <td>None</td>\n",
       "    </tr>\n",
       "    <tr>\n",
       "      <th>3</th>\n",
       "      <td>timespent</td>\n",
       "      <td>timespent</td>\n",
       "      <td>Time Spent</td>\n",
       "      <td>False</td>\n",
       "      <td>False</td>\n",
       "      <td>True</td>\n",
       "      <td>False</td>\n",
       "      <td>['timespent']</td>\n",
       "      <td>{'type': 'number', 'system': 'timespent'}</td>\n",
       "    </tr>\n",
       "    <tr>\n",
       "      <th>4</th>\n",
       "      <td>project</td>\n",
       "      <td>project</td>\n",
       "      <td>Project</td>\n",
       "      <td>False</td>\n",
       "      <td>False</td>\n",
       "      <td>True</td>\n",
       "      <td>True</td>\n",
       "      <td>['project']</td>\n",
       "      <td>{'type': 'project', 'system': 'project'}</td>\n",
       "    </tr>\n",
       "  </tbody>\n",
       "</table>\n",
       "</div>"
      ],
      "text/plain": [
       "                         id                       key  \\\n",
       "0  statuscategorychangedate  statuscategorychangedate   \n",
       "1                 issuetype                 issuetype   \n",
       "2                    parent                    parent   \n",
       "3                 timespent                 timespent   \n",
       "4                   project                   project   \n",
       "\n",
       "                      name  custom  orderable  navigable  searchable  \\\n",
       "0  Status Category Changed   False      False       True        True   \n",
       "1               Issue Type   False       True       True        True   \n",
       "2                   Parent   False      False       True       False   \n",
       "3               Time Spent   False      False       True       False   \n",
       "4                  Project   False      False       True        True   \n",
       "\n",
       "                     clauseNames  \\\n",
       "0  ['statusCategoryChangedDate']   \n",
       "1          ['issuetype', 'type']   \n",
       "2                     ['parent']   \n",
       "3                  ['timespent']   \n",
       "4                    ['project']   \n",
       "\n",
       "                                              schema  \n",
       "0  {'type': 'datetime', 'system': 'statuscategory...  \n",
       "1       {'type': 'issuetype', 'system': 'issuetype'}  \n",
       "2                                               None  \n",
       "3          {'type': 'number', 'system': 'timespent'}  \n",
       "4           {'type': 'project', 'system': 'project'}  "
      ]
     },
     "execution_count": 21,
     "metadata": {},
     "output_type": "execute_result"
    }
   ],
   "source": [
    "jnb.fields(shortlist=False).head()"
   ]
  },
  {
   "cell_type": "markdown",
   "metadata": {},
   "source": [
    "Or, the default, ignoring the values you likely don't need:"
   ]
  },
  {
   "cell_type": "code",
   "execution_count": 22,
   "metadata": {},
   "outputs": [
    {
     "data": {
      "text/html": [
       "<div>\n",
       "<style scoped>\n",
       "    .dataframe tbody tr th:only-of-type {\n",
       "        vertical-align: middle;\n",
       "    }\n",
       "\n",
       "    .dataframe tbody tr th {\n",
       "        vertical-align: top;\n",
       "    }\n",
       "\n",
       "    .dataframe thead th {\n",
       "        text-align: right;\n",
       "    }\n",
       "</style>\n",
       "<table border=\"1\" class=\"dataframe\">\n",
       "  <thead>\n",
       "    <tr style=\"text-align: right;\">\n",
       "      <th></th>\n",
       "      <th>key</th>\n",
       "      <th>name</th>\n",
       "      <th>schema</th>\n",
       "    </tr>\n",
       "  </thead>\n",
       "  <tbody>\n",
       "    <tr>\n",
       "      <th>0</th>\n",
       "      <td>statuscategorychangedate</td>\n",
       "      <td>Status Category Changed</td>\n",
       "      <td>{'type': 'datetime', 'system': 'statuscategory...</td>\n",
       "    </tr>\n",
       "    <tr>\n",
       "      <th>1</th>\n",
       "      <td>issuetype</td>\n",
       "      <td>Issue Type</td>\n",
       "      <td>{'type': 'issuetype', 'system': 'issuetype'}</td>\n",
       "    </tr>\n",
       "    <tr>\n",
       "      <th>2</th>\n",
       "      <td>parent</td>\n",
       "      <td>Parent</td>\n",
       "      <td>None</td>\n",
       "    </tr>\n",
       "    <tr>\n",
       "      <th>3</th>\n",
       "      <td>timespent</td>\n",
       "      <td>Time Spent</td>\n",
       "      <td>{'type': 'number', 'system': 'timespent'}</td>\n",
       "    </tr>\n",
       "    <tr>\n",
       "      <th>4</th>\n",
       "      <td>project</td>\n",
       "      <td>Project</td>\n",
       "      <td>{'type': 'project', 'system': 'project'}</td>\n",
       "    </tr>\n",
       "  </tbody>\n",
       "</table>\n",
       "</div>"
      ],
      "text/plain": [
       "                        key                     name  \\\n",
       "0  statuscategorychangedate  Status Category Changed   \n",
       "1                 issuetype               Issue Type   \n",
       "2                    parent                   Parent   \n",
       "3                 timespent               Time Spent   \n",
       "4                   project                  Project   \n",
       "\n",
       "                                              schema  \n",
       "0  {'type': 'datetime', 'system': 'statuscategory...  \n",
       "1       {'type': 'issuetype', 'system': 'issuetype'}  \n",
       "2                                               None  \n",
       "3          {'type': 'number', 'system': 'timespent'}  \n",
       "4           {'type': 'project', 'system': 'project'}  "
      ]
     },
     "execution_count": 22,
     "metadata": {},
     "output_type": "execute_result"
    }
   ],
   "source": [
    "jnb.fields().head()"
   ]
  },
  {
   "cell_type": "markdown",
   "metadata": {},
   "source": [
    "## Summary\n",
    "\n",
    "### Manipulate the data in clear language\n",
    "With Sweep you can access JIRA with results coming in a format that allows easy manipulation \n",
    "in the vocabulary of data transformations. This gives greater clarity to what is being done to\n",
    "the data than when trying to accomplish the same by writing programming code directly.\n",
    "\n",
    "### Quick and easy visualization\n",
    "Additionally, having the data available in dataframes allows for the power of the combination\n",
    "of pandas and matplotlib to be unleashed for quick and easily visualization.\n"
   ]
  },
  {
   "cell_type": "code",
   "execution_count": null,
   "metadata": {},
   "outputs": [],
   "source": []
  }
 ],
 "metadata": {
  "kernelspec": {
   "display_name": "Python 3",
   "language": "python",
   "name": "python3"
  },
  "language_info": {
   "codemirror_mode": {
    "name": "ipython",
    "version": 3
   },
   "file_extension": ".py",
   "mimetype": "text/x-python",
   "name": "python",
   "nbconvert_exporter": "python",
   "pygments_lexer": "ipython3",
   "version": "3.7.4"
  }
 },
 "nbformat": 4,
 "nbformat_minor": 4
}
